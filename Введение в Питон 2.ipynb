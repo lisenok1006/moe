{
 "cells": [
  {
   "cell_type": "code",
   "execution_count": 7,
   "id": "c7e61af3",
   "metadata": {},
   "outputs": [],
   "source": [
    "import pandas as pd"
   ]
  },
  {
   "cell_type": "markdown",
   "id": "23c993a6",
   "metadata": {},
   "source": [
    "# PANDAS"
   ]
  },
  {
   "cell_type": "code",
   "execution_count": 9,
   "id": "6b93ef06",
   "metadata": {},
   "outputs": [],
   "source": [
    "df = pd.read_csv('C:/Users/D.Elistratov/Documents/Презентации лекций/Неделя 6/ПИТОН/ORDER_LIST.csv')"
   ]
  },
  {
   "cell_type": "code",
   "execution_count": 10,
   "id": "4cb6db58",
   "metadata": {},
   "outputs": [
    {
     "data": {
      "text/plain": [
       "5000"
      ]
     },
     "execution_count": 10,
     "metadata": {},
     "output_type": "execute_result"
    }
   ],
   "source": [
    "#### Количество строк\n",
    "\n",
    "len(df)"
   ]
  },
  {
   "cell_type": "code",
   "execution_count": 11,
   "id": "37032ff8",
   "metadata": {
    "scrolled": false
   },
   "outputs": [
    {
     "data": {
      "text/plain": [
       "RangeIndex(start=0, stop=5000, step=1)"
      ]
     },
     "execution_count": 11,
     "metadata": {},
     "output_type": "execute_result"
    }
   ],
   "source": [
    "#### Индекс датафрейма\n",
    "\n",
    "df.index"
   ]
  },
  {
   "cell_type": "code",
   "execution_count": 12,
   "id": "a182300d",
   "metadata": {},
   "outputs": [],
   "source": [
    "#### Приводим к дате\n",
    "\n",
    "df['order_time'] = pd.to_datetime(df['order_time'])\n",
    "df['assign_time'] = pd.to_datetime(df['assign_time'])\n",
    "df['arrive_to_client_time'] = pd.to_datetime(df['arrive_to_client_time'])\n",
    "df['order_finish_time'] = pd.to_datetime(df['order_finish_time'])"
   ]
  },
  {
   "cell_type": "code",
   "execution_count": 13,
   "id": "af31546f",
   "metadata": {
    "scrolled": true
   },
   "outputs": [
    {
     "name": "stdout",
     "output_type": "stream",
     "text": [
      "COUNT DISTINCT ID_DRIVER 3296\n",
      "COUNT DISTINCT ID_ORDER 5000\n"
     ]
    }
   ],
   "source": [
    "#### Уникальные водители и заказы\n",
    "\n",
    "print('COUNT DISTINCT ID_DRIVER',len(df['id_driver'].unique()))\n",
    "print('COUNT DISTINCT ID_ORDER',len(df['id_order'].unique()))"
   ]
  },
  {
   "cell_type": "code",
   "execution_count": 14,
   "id": "29035f8d",
   "metadata": {},
   "outputs": [],
   "source": [
    "#### Заполним НУЛЛЫ \n",
    "\n",
    "df['id_driver'] = df['id_driver'].fillna(-1)"
   ]
  },
  {
   "cell_type": "code",
   "execution_count": 15,
   "id": "343581f8",
   "metadata": {},
   "outputs": [
    {
     "data": {
      "text/html": [
       "<div>\n",
       "<style scoped>\n",
       "    .dataframe tbody tr th:only-of-type {\n",
       "        vertical-align: middle;\n",
       "    }\n",
       "\n",
       "    .dataframe tbody tr th {\n",
       "        vertical-align: top;\n",
       "    }\n",
       "\n",
       "    .dataframe thead th {\n",
       "        text-align: right;\n",
       "    }\n",
       "</style>\n",
       "<table border=\"1\" class=\"dataframe\">\n",
       "  <thead>\n",
       "    <tr style=\"text-align: right;\">\n",
       "      <th></th>\n",
       "      <th>id_order</th>\n",
       "      <th>id_driver</th>\n",
       "      <th>order_time</th>\n",
       "      <th>assign_time</th>\n",
       "      <th>arrive_to_client_time</th>\n",
       "      <th>order_finish_time</th>\n",
       "      <th>id_tariff</th>\n",
       "      <th>id_city</th>\n",
       "    </tr>\n",
       "  </thead>\n",
       "  <tbody>\n",
       "    <tr>\n",
       "      <th>0</th>\n",
       "      <td>113612</td>\n",
       "      <td>1644.0</td>\n",
       "      <td>2021-07-01 00:13:39</td>\n",
       "      <td>NaT</td>\n",
       "      <td>NaT</td>\n",
       "      <td>NaT</td>\n",
       "      <td>11.0</td>\n",
       "      <td>117</td>\n",
       "    </tr>\n",
       "    <tr>\n",
       "      <th>1</th>\n",
       "      <td>110195</td>\n",
       "      <td>280.0</td>\n",
       "      <td>2021-07-01 00:17:26</td>\n",
       "      <td>2021-07-01 00:23:26</td>\n",
       "      <td>2021-07-01 00:33:26</td>\n",
       "      <td>NaT</td>\n",
       "      <td>11.0</td>\n",
       "      <td>112</td>\n",
       "    </tr>\n",
       "    <tr>\n",
       "      <th>2</th>\n",
       "      <td>114560</td>\n",
       "      <td>2536.0</td>\n",
       "      <td>2021-07-01 00:36:00</td>\n",
       "      <td>2021-07-01 00:41:00</td>\n",
       "      <td>2021-07-01 00:44:00</td>\n",
       "      <td>2021-07-01 01:42:00</td>\n",
       "      <td>10.0</td>\n",
       "      <td>115</td>\n",
       "    </tr>\n",
       "    <tr>\n",
       "      <th>3</th>\n",
       "      <td>111284</td>\n",
       "      <td>-1.0</td>\n",
       "      <td>2021-07-01 00:36:32</td>\n",
       "      <td>NaT</td>\n",
       "      <td>NaT</td>\n",
       "      <td>NaT</td>\n",
       "      <td>11.0</td>\n",
       "      <td>111</td>\n",
       "    </tr>\n",
       "    <tr>\n",
       "      <th>4</th>\n",
       "      <td>110131</td>\n",
       "      <td>3730.0</td>\n",
       "      <td>2021-07-01 00:36:34</td>\n",
       "      <td>2021-07-01 00:40:34</td>\n",
       "      <td>2021-07-01 00:50:34</td>\n",
       "      <td>NaT</td>\n",
       "      <td>10.0</td>\n",
       "      <td>118</td>\n",
       "    </tr>\n",
       "    <tr>\n",
       "      <th>5</th>\n",
       "      <td>113643</td>\n",
       "      <td>3597.0</td>\n",
       "      <td>2021-07-01 00:36:35</td>\n",
       "      <td>NaT</td>\n",
       "      <td>NaT</td>\n",
       "      <td>NaT</td>\n",
       "      <td>65.0</td>\n",
       "      <td>116</td>\n",
       "    </tr>\n",
       "    <tr>\n",
       "      <th>6</th>\n",
       "      <td>111093</td>\n",
       "      <td>4306.0</td>\n",
       "      <td>2021-07-01 01:05:39</td>\n",
       "      <td>2021-07-01 01:11:39</td>\n",
       "      <td>NaT</td>\n",
       "      <td>NaT</td>\n",
       "      <td>10.0</td>\n",
       "      <td>111</td>\n",
       "    </tr>\n",
       "    <tr>\n",
       "      <th>7</th>\n",
       "      <td>112639</td>\n",
       "      <td>327.0</td>\n",
       "      <td>2021-07-01 01:05:48</td>\n",
       "      <td>2021-07-01 01:09:48</td>\n",
       "      <td>2021-07-01 01:17:48</td>\n",
       "      <td>2021-07-01 02:04:48</td>\n",
       "      <td>10.0</td>\n",
       "      <td>115</td>\n",
       "    </tr>\n",
       "    <tr>\n",
       "      <th>8</th>\n",
       "      <td>110664</td>\n",
       "      <td>1147.0</td>\n",
       "      <td>2021-07-01 01:25:20</td>\n",
       "      <td>2021-07-01 01:31:20</td>\n",
       "      <td>2021-07-01 01:42:20</td>\n",
       "      <td>NaT</td>\n",
       "      <td>10.0</td>\n",
       "      <td>111</td>\n",
       "    </tr>\n",
       "    <tr>\n",
       "      <th>9</th>\n",
       "      <td>110017</td>\n",
       "      <td>2625.0</td>\n",
       "      <td>2021-07-01 01:41:09</td>\n",
       "      <td>2021-07-01 01:45:09</td>\n",
       "      <td>NaT</td>\n",
       "      <td>NaT</td>\n",
       "      <td>78.0</td>\n",
       "      <td>111</td>\n",
       "    </tr>\n",
       "  </tbody>\n",
       "</table>\n",
       "</div>"
      ],
      "text/plain": [
       "   id_order  id_driver          order_time         assign_time  \\\n",
       "0    113612     1644.0 2021-07-01 00:13:39                 NaT   \n",
       "1    110195      280.0 2021-07-01 00:17:26 2021-07-01 00:23:26   \n",
       "2    114560     2536.0 2021-07-01 00:36:00 2021-07-01 00:41:00   \n",
       "3    111284       -1.0 2021-07-01 00:36:32                 NaT   \n",
       "4    110131     3730.0 2021-07-01 00:36:34 2021-07-01 00:40:34   \n",
       "5    113643     3597.0 2021-07-01 00:36:35                 NaT   \n",
       "6    111093     4306.0 2021-07-01 01:05:39 2021-07-01 01:11:39   \n",
       "7    112639      327.0 2021-07-01 01:05:48 2021-07-01 01:09:48   \n",
       "8    110664     1147.0 2021-07-01 01:25:20 2021-07-01 01:31:20   \n",
       "9    110017     2625.0 2021-07-01 01:41:09 2021-07-01 01:45:09   \n",
       "\n",
       "  arrive_to_client_time   order_finish_time  id_tariff  id_city  \n",
       "0                   NaT                 NaT       11.0      117  \n",
       "1   2021-07-01 00:33:26                 NaT       11.0      112  \n",
       "2   2021-07-01 00:44:00 2021-07-01 01:42:00       10.0      115  \n",
       "3                   NaT                 NaT       11.0      111  \n",
       "4   2021-07-01 00:50:34                 NaT       10.0      118  \n",
       "5                   NaT                 NaT       65.0      116  \n",
       "6                   NaT                 NaT       10.0      111  \n",
       "7   2021-07-01 01:17:48 2021-07-01 02:04:48       10.0      115  \n",
       "8   2021-07-01 01:42:20                 NaT       10.0      111  \n",
       "9                   NaT                 NaT       78.0      111  "
      ]
     },
     "execution_count": 15,
     "metadata": {},
     "output_type": "execute_result"
    }
   ],
   "source": [
    "#### Посмотрим первые 10 строк\n",
    "\n",
    "df.head(10)"
   ]
  },
  {
   "cell_type": "code",
   "execution_count": 16,
   "id": "d828f499",
   "metadata": {},
   "outputs": [
    {
     "data": {
      "text/plain": [
       "pandas.core.frame.DataFrame"
      ]
     },
     "execution_count": 16,
     "metadata": {},
     "output_type": "execute_result"
    }
   ],
   "source": [
    "#### тип объекта - датафрейм\n",
    "\n",
    "type(df)"
   ]
  },
  {
   "cell_type": "code",
   "execution_count": 17,
   "id": "58ab5c5b",
   "metadata": {},
   "outputs": [
    {
     "data": {
      "text/plain": [
       "pandas.core.series.Series"
      ]
     },
     "execution_count": 17,
     "metadata": {},
     "output_type": "execute_result"
    }
   ],
   "source": [
    "#### датафрейм состоит из серий (series)\n",
    "\n",
    "type(df['id_order'])"
   ]
  },
  {
   "cell_type": "code",
   "execution_count": 18,
   "id": "21189467",
   "metadata": {},
   "outputs": [],
   "source": [
    "#### создание новых колонок\n",
    "\n",
    "df['only_five'] = 5"
   ]
  },
  {
   "cell_type": "code",
   "execution_count": 20,
   "id": "cabc19d6",
   "metadata": {},
   "outputs": [],
   "source": [
    "#### Сменим индексацию\n",
    "\n",
    "df = df.set_index('id_order')"
   ]
  },
  {
   "cell_type": "code",
   "execution_count": 132,
   "id": "7aeffa02",
   "metadata": {},
   "outputs": [
    {
     "data": {
      "text/plain": [
       "DatetimeIndex(['2021-07-01 00:13:39', '2021-07-01 00:17:26',\n",
       "               '2021-07-01 00:36:00', '2021-07-01 00:36:32',\n",
       "               '2021-07-01 00:36:34', '2021-07-01 00:36:35',\n",
       "               '2021-07-01 01:05:39', '2021-07-01 01:05:48',\n",
       "               '2021-07-01 01:25:20', '2021-07-01 01:41:09',\n",
       "               ...\n",
       "               '2021-07-31 21:43:45', '2021-07-31 21:55:45',\n",
       "               '2021-07-31 22:00:49', '2021-07-31 22:05:11',\n",
       "               '2021-07-31 22:11:11', '2021-07-31 22:23:06',\n",
       "               '2021-07-31 22:33:22', '2021-07-31 22:38:43',\n",
       "               '2021-07-31 22:42:38', '2021-07-31 23:09:15'],\n",
       "              dtype='datetime64[ns]', name='order_time', length=5000, freq=None)"
      ]
     },
     "execution_count": 132,
     "metadata": {},
     "output_type": "execute_result"
    }
   ],
   "source": [
    "#### индекс колонки-серии - это индекс датафрейма\n",
    "\n",
    "vect_driver = df['id_driver']\n",
    "vect_driver.index"
   ]
  },
  {
   "cell_type": "code",
   "execution_count": 24,
   "id": "7bfba923",
   "metadata": {
    "scrolled": true
   },
   "outputs": [
    {
     "data": {
      "text/html": [
       "<div>\n",
       "<style scoped>\n",
       "    .dataframe tbody tr th:only-of-type {\n",
       "        vertical-align: middle;\n",
       "    }\n",
       "\n",
       "    .dataframe tbody tr th {\n",
       "        vertical-align: top;\n",
       "    }\n",
       "\n",
       "    .dataframe thead th {\n",
       "        text-align: right;\n",
       "    }\n",
       "</style>\n",
       "<table border=\"1\" class=\"dataframe\">\n",
       "  <thead>\n",
       "    <tr style=\"text-align: right;\">\n",
       "      <th></th>\n",
       "      <th>id_driver</th>\n",
       "      <th>order_time</th>\n",
       "    </tr>\n",
       "    <tr>\n",
       "      <th>id_order</th>\n",
       "      <th></th>\n",
       "      <th></th>\n",
       "    </tr>\n",
       "  </thead>\n",
       "  <tbody>\n",
       "    <tr>\n",
       "      <th>113612</th>\n",
       "      <td>1644.0</td>\n",
       "      <td>2021-07-01 00:13:39</td>\n",
       "    </tr>\n",
       "    <tr>\n",
       "      <th>110195</th>\n",
       "      <td>280.0</td>\n",
       "      <td>2021-07-01 00:17:26</td>\n",
       "    </tr>\n",
       "    <tr>\n",
       "      <th>114560</th>\n",
       "      <td>2536.0</td>\n",
       "      <td>2021-07-01 00:36:00</td>\n",
       "    </tr>\n",
       "    <tr>\n",
       "      <th>111284</th>\n",
       "      <td>-1.0</td>\n",
       "      <td>2021-07-01 00:36:32</td>\n",
       "    </tr>\n",
       "    <tr>\n",
       "      <th>110131</th>\n",
       "      <td>3730.0</td>\n",
       "      <td>2021-07-01 00:36:34</td>\n",
       "    </tr>\n",
       "    <tr>\n",
       "      <th>...</th>\n",
       "      <td>...</td>\n",
       "      <td>...</td>\n",
       "    </tr>\n",
       "    <tr>\n",
       "      <th>110175</th>\n",
       "      <td>3952.0</td>\n",
       "      <td>2021-07-31 22:23:06</td>\n",
       "    </tr>\n",
       "    <tr>\n",
       "      <th>112011</th>\n",
       "      <td>869.0</td>\n",
       "      <td>2021-07-31 22:33:22</td>\n",
       "    </tr>\n",
       "    <tr>\n",
       "      <th>113759</th>\n",
       "      <td>2831.0</td>\n",
       "      <td>2021-07-31 22:38:43</td>\n",
       "    </tr>\n",
       "    <tr>\n",
       "      <th>113847</th>\n",
       "      <td>3443.0</td>\n",
       "      <td>2021-07-31 22:42:38</td>\n",
       "    </tr>\n",
       "    <tr>\n",
       "      <th>110907</th>\n",
       "      <td>1487.0</td>\n",
       "      <td>2021-07-31 23:09:15</td>\n",
       "    </tr>\n",
       "  </tbody>\n",
       "</table>\n",
       "<p>5000 rows × 2 columns</p>\n",
       "</div>"
      ],
      "text/plain": [
       "          id_driver          order_time\n",
       "id_order                               \n",
       "113612       1644.0 2021-07-01 00:13:39\n",
       "110195        280.0 2021-07-01 00:17:26\n",
       "114560       2536.0 2021-07-01 00:36:00\n",
       "111284         -1.0 2021-07-01 00:36:32\n",
       "110131       3730.0 2021-07-01 00:36:34\n",
       "...             ...                 ...\n",
       "110175       3952.0 2021-07-31 22:23:06\n",
       "112011        869.0 2021-07-31 22:33:22\n",
       "113759       2831.0 2021-07-31 22:38:43\n",
       "113847       3443.0 2021-07-31 22:42:38\n",
       "110907       1487.0 2021-07-31 23:09:15\n",
       "\n",
       "[5000 rows x 2 columns]"
      ]
     },
     "execution_count": 24,
     "metadata": {},
     "output_type": "execute_result"
    }
   ],
   "source": [
    "#### Выберем несколько колонок датафрейма\n",
    "\n",
    "df[['id_driver','order_time']]"
   ]
  },
  {
   "cell_type": "code",
   "execution_count": null,
   "id": "733bfd3b",
   "metadata": {},
   "outputs": [],
   "source": [
    "#### Создадим резервную копию нашего датафрейма\n",
    "\n",
    "dfa = df.copy()"
   ]
  },
  {
   "cell_type": "code",
   "execution_count": 25,
   "id": "87aa5f47",
   "metadata": {},
   "outputs": [],
   "source": [
    "#### Создадим свою серию \n",
    "\n",
    "sa = pd.Series([1, 2, 3, 4], index=list('abcd'))"
   ]
  },
  {
   "cell_type": "code",
   "execution_count": 47,
   "id": "97d803b4",
   "metadata": {},
   "outputs": [],
   "source": [
    "#### Создадим свой датафрейм \n",
    "\n",
    "x = pd.DataFrame({'x': [1, 2, 3, 4], 'y': [3, 4, 5, 6]})"
   ]
  },
  {
   "cell_type": "code",
   "execution_count": 133,
   "id": "1d0e5c51",
   "metadata": {},
   "outputs": [
    {
     "data": {
      "text/html": [
       "<div>\n",
       "<style scoped>\n",
       "    .dataframe tbody tr th:only-of-type {\n",
       "        vertical-align: middle;\n",
       "    }\n",
       "\n",
       "    .dataframe tbody tr th {\n",
       "        vertical-align: top;\n",
       "    }\n",
       "\n",
       "    .dataframe thead th {\n",
       "        text-align: right;\n",
       "    }\n",
       "</style>\n",
       "<table border=\"1\" class=\"dataframe\">\n",
       "  <thead>\n",
       "    <tr style=\"text-align: right;\">\n",
       "      <th></th>\n",
       "      <th>id_driver</th>\n",
       "      <th>assign_time</th>\n",
       "      <th>arrive_to_client_time</th>\n",
       "      <th>order_finish_time</th>\n",
       "      <th>id_tariff</th>\n",
       "      <th>id_city</th>\n",
       "      <th>only_five</th>\n",
       "    </tr>\n",
       "    <tr>\n",
       "      <th>order_time</th>\n",
       "      <th></th>\n",
       "      <th></th>\n",
       "      <th></th>\n",
       "      <th></th>\n",
       "      <th></th>\n",
       "      <th></th>\n",
       "      <th></th>\n",
       "    </tr>\n",
       "  </thead>\n",
       "  <tbody>\n",
       "    <tr>\n",
       "      <th>2021-07-01 00:13:39</th>\n",
       "      <td>1644.0</td>\n",
       "      <td>NaT</td>\n",
       "      <td>NaT</td>\n",
       "      <td>NaT</td>\n",
       "      <td>11.0</td>\n",
       "      <td>117</td>\n",
       "      <td>5</td>\n",
       "    </tr>\n",
       "    <tr>\n",
       "      <th>2021-07-01 00:17:26</th>\n",
       "      <td>280.0</td>\n",
       "      <td>2021-07-01 00:23:26</td>\n",
       "      <td>2021-07-01 00:33:26</td>\n",
       "      <td>NaT</td>\n",
       "      <td>11.0</td>\n",
       "      <td>112</td>\n",
       "      <td>5</td>\n",
       "    </tr>\n",
       "    <tr>\n",
       "      <th>2021-07-01 00:36:00</th>\n",
       "      <td>2536.0</td>\n",
       "      <td>2021-07-01 00:41:00</td>\n",
       "      <td>2021-07-01 00:44:00</td>\n",
       "      <td>2021-07-01 01:42:00</td>\n",
       "      <td>10.0</td>\n",
       "      <td>115</td>\n",
       "      <td>5</td>\n",
       "    </tr>\n",
       "  </tbody>\n",
       "</table>\n",
       "</div>"
      ],
      "text/plain": [
       "                     id_driver         assign_time arrive_to_client_time  \\\n",
       "order_time                                                                 \n",
       "2021-07-01 00:13:39     1644.0                 NaT                   NaT   \n",
       "2021-07-01 00:17:26      280.0 2021-07-01 00:23:26   2021-07-01 00:33:26   \n",
       "2021-07-01 00:36:00     2536.0 2021-07-01 00:41:00   2021-07-01 00:44:00   \n",
       "\n",
       "                      order_finish_time  id_tariff  id_city  only_five  \n",
       "order_time                                                              \n",
       "2021-07-01 00:13:39                 NaT       11.0      117          5  \n",
       "2021-07-01 00:17:26                 NaT       11.0      112          5  \n",
       "2021-07-01 00:36:00 2021-07-01 01:42:00       10.0      115          5  "
      ]
     },
     "execution_count": 133,
     "metadata": {},
     "output_type": "execute_result"
    }
   ],
   "source": [
    "#### Посмотрим первые три строчки\n",
    "\n",
    "df[:3]"
   ]
  },
  {
   "cell_type": "code",
   "execution_count": 64,
   "id": "57d7e347",
   "metadata": {
    "scrolled": true
   },
   "outputs": [
    {
     "data": {
      "text/html": [
       "<div>\n",
       "<style scoped>\n",
       "    .dataframe tbody tr th:only-of-type {\n",
       "        vertical-align: middle;\n",
       "    }\n",
       "\n",
       "    .dataframe tbody tr th {\n",
       "        vertical-align: top;\n",
       "    }\n",
       "\n",
       "    .dataframe thead th {\n",
       "        text-align: right;\n",
       "    }\n",
       "</style>\n",
       "<table border=\"1\" class=\"dataframe\">\n",
       "  <thead>\n",
       "    <tr style=\"text-align: right;\">\n",
       "      <th></th>\n",
       "      <th>id_driver</th>\n",
       "      <th>order_time</th>\n",
       "      <th>assign_time</th>\n",
       "      <th>arrive_to_client_time</th>\n",
       "      <th>order_finish_time</th>\n",
       "      <th>id_tariff</th>\n",
       "      <th>id_city</th>\n",
       "      <th>only_five</th>\n",
       "    </tr>\n",
       "    <tr>\n",
       "      <th>id_order</th>\n",
       "      <th></th>\n",
       "      <th></th>\n",
       "      <th></th>\n",
       "      <th></th>\n",
       "      <th></th>\n",
       "      <th></th>\n",
       "      <th></th>\n",
       "      <th></th>\n",
       "    </tr>\n",
       "  </thead>\n",
       "  <tbody>\n",
       "    <tr>\n",
       "      <th>113612</th>\n",
       "      <td>1644.0</td>\n",
       "      <td>2021-07-01 00:13:39</td>\n",
       "      <td>NaT</td>\n",
       "      <td>NaT</td>\n",
       "      <td>NaT</td>\n",
       "      <td>11.0</td>\n",
       "      <td>117</td>\n",
       "      <td>5</td>\n",
       "    </tr>\n",
       "    <tr>\n",
       "      <th>111284</th>\n",
       "      <td>-1.0</td>\n",
       "      <td>2021-07-01 00:36:32</td>\n",
       "      <td>NaT</td>\n",
       "      <td>NaT</td>\n",
       "      <td>NaT</td>\n",
       "      <td>11.0</td>\n",
       "      <td>111</td>\n",
       "      <td>5</td>\n",
       "    </tr>\n",
       "    <tr>\n",
       "      <th>111093</th>\n",
       "      <td>4306.0</td>\n",
       "      <td>2021-07-01 01:05:39</td>\n",
       "      <td>2021-07-01 01:11:39</td>\n",
       "      <td>NaT</td>\n",
       "      <td>NaT</td>\n",
       "      <td>10.0</td>\n",
       "      <td>111</td>\n",
       "      <td>5</td>\n",
       "    </tr>\n",
       "    <tr>\n",
       "      <th>110017</th>\n",
       "      <td>2625.0</td>\n",
       "      <td>2021-07-01 01:41:09</td>\n",
       "      <td>2021-07-01 01:45:09</td>\n",
       "      <td>NaT</td>\n",
       "      <td>NaT</td>\n",
       "      <td>78.0</td>\n",
       "      <td>111</td>\n",
       "      <td>5</td>\n",
       "    </tr>\n",
       "    <tr>\n",
       "      <th>110508</th>\n",
       "      <td>4456.0</td>\n",
       "      <td>2021-07-01 02:32:12</td>\n",
       "      <td>2021-07-01 02:33:12</td>\n",
       "      <td>2021-07-01 02:35:12</td>\n",
       "      <td>2021-07-01 03:37:12</td>\n",
       "      <td>11.0</td>\n",
       "      <td>118</td>\n",
       "      <td>5</td>\n",
       "    </tr>\n",
       "    <tr>\n",
       "      <th>...</th>\n",
       "      <td>...</td>\n",
       "      <td>...</td>\n",
       "      <td>...</td>\n",
       "      <td>...</td>\n",
       "      <td>...</td>\n",
       "      <td>...</td>\n",
       "      <td>...</td>\n",
       "      <td>...</td>\n",
       "    </tr>\n",
       "    <tr>\n",
       "      <th>112609</th>\n",
       "      <td>3842.0</td>\n",
       "      <td>2021-07-31 21:12:58</td>\n",
       "      <td>2021-07-31 21:14:58</td>\n",
       "      <td>2021-07-31 21:25:58</td>\n",
       "      <td>2021-07-31 21:57:58</td>\n",
       "      <td>1.0</td>\n",
       "      <td>111</td>\n",
       "      <td>5</td>\n",
       "    </tr>\n",
       "    <tr>\n",
       "      <th>111372</th>\n",
       "      <td>4655.0</td>\n",
       "      <td>2021-07-31 21:22:21</td>\n",
       "      <td>2021-07-31 21:26:21</td>\n",
       "      <td>2021-07-31 21:33:21</td>\n",
       "      <td>2021-07-31 22:46:21</td>\n",
       "      <td>10.0</td>\n",
       "      <td>111</td>\n",
       "      <td>5</td>\n",
       "    </tr>\n",
       "    <tr>\n",
       "      <th>114283</th>\n",
       "      <td>3973.0</td>\n",
       "      <td>2021-07-31 22:00:49</td>\n",
       "      <td>NaT</td>\n",
       "      <td>NaT</td>\n",
       "      <td>NaT</td>\n",
       "      <td>78.0</td>\n",
       "      <td>112</td>\n",
       "      <td>5</td>\n",
       "    </tr>\n",
       "    <tr>\n",
       "      <th>110175</th>\n",
       "      <td>3952.0</td>\n",
       "      <td>2021-07-31 22:23:06</td>\n",
       "      <td>2021-07-31 22:25:06</td>\n",
       "      <td>2021-07-31 22:33:06</td>\n",
       "      <td>2021-07-31 23:09:06</td>\n",
       "      <td>10.0</td>\n",
       "      <td>111</td>\n",
       "      <td>5</td>\n",
       "    </tr>\n",
       "    <tr>\n",
       "      <th>113847</th>\n",
       "      <td>3443.0</td>\n",
       "      <td>2021-07-31 22:42:38</td>\n",
       "      <td>2021-07-31 22:46:38</td>\n",
       "      <td>NaT</td>\n",
       "      <td>NaT</td>\n",
       "      <td>1.0</td>\n",
       "      <td>113</td>\n",
       "      <td>5</td>\n",
       "    </tr>\n",
       "  </tbody>\n",
       "</table>\n",
       "<p>1667 rows × 8 columns</p>\n",
       "</div>"
      ],
      "text/plain": [
       "          id_driver          order_time         assign_time  \\\n",
       "id_order                                                      \n",
       "113612       1644.0 2021-07-01 00:13:39                 NaT   \n",
       "111284         -1.0 2021-07-01 00:36:32                 NaT   \n",
       "111093       4306.0 2021-07-01 01:05:39 2021-07-01 01:11:39   \n",
       "110017       2625.0 2021-07-01 01:41:09 2021-07-01 01:45:09   \n",
       "110508       4456.0 2021-07-01 02:32:12 2021-07-01 02:33:12   \n",
       "...             ...                 ...                 ...   \n",
       "112609       3842.0 2021-07-31 21:12:58 2021-07-31 21:14:58   \n",
       "111372       4655.0 2021-07-31 21:22:21 2021-07-31 21:26:21   \n",
       "114283       3973.0 2021-07-31 22:00:49                 NaT   \n",
       "110175       3952.0 2021-07-31 22:23:06 2021-07-31 22:25:06   \n",
       "113847       3443.0 2021-07-31 22:42:38 2021-07-31 22:46:38   \n",
       "\n",
       "         arrive_to_client_time   order_finish_time  id_tariff  id_city  \\\n",
       "id_order                                                                 \n",
       "113612                     NaT                 NaT       11.0      117   \n",
       "111284                     NaT                 NaT       11.0      111   \n",
       "111093                     NaT                 NaT       10.0      111   \n",
       "110017                     NaT                 NaT       78.0      111   \n",
       "110508     2021-07-01 02:35:12 2021-07-01 03:37:12       11.0      118   \n",
       "...                        ...                 ...        ...      ...   \n",
       "112609     2021-07-31 21:25:58 2021-07-31 21:57:58        1.0      111   \n",
       "111372     2021-07-31 21:33:21 2021-07-31 22:46:21       10.0      111   \n",
       "114283                     NaT                 NaT       78.0      112   \n",
       "110175     2021-07-31 22:33:06 2021-07-31 23:09:06       10.0      111   \n",
       "113847                     NaT                 NaT        1.0      113   \n",
       "\n",
       "          only_five  \n",
       "id_order             \n",
       "113612            5  \n",
       "111284            5  \n",
       "111093            5  \n",
       "110017            5  \n",
       "110508            5  \n",
       "...             ...  \n",
       "112609            5  \n",
       "111372            5  \n",
       "114283            5  \n",
       "110175            5  \n",
       "113847            5  \n",
       "\n",
       "[1667 rows x 8 columns]"
      ]
     },
     "execution_count": 64,
     "metadata": {},
     "output_type": "execute_result"
    }
   ],
   "source": [
    "#### Посмотрим строчки через 3\n",
    "\n",
    "df[::3]"
   ]
  },
  {
   "cell_type": "code",
   "execution_count": 65,
   "id": "adadf627",
   "metadata": {
    "scrolled": true
   },
   "outputs": [
    {
     "data": {
      "text/html": [
       "<div>\n",
       "<style scoped>\n",
       "    .dataframe tbody tr th:only-of-type {\n",
       "        vertical-align: middle;\n",
       "    }\n",
       "\n",
       "    .dataframe tbody tr th {\n",
       "        vertical-align: top;\n",
       "    }\n",
       "\n",
       "    .dataframe thead th {\n",
       "        text-align: right;\n",
       "    }\n",
       "</style>\n",
       "<table border=\"1\" class=\"dataframe\">\n",
       "  <thead>\n",
       "    <tr style=\"text-align: right;\">\n",
       "      <th></th>\n",
       "      <th>id_driver</th>\n",
       "      <th>order_time</th>\n",
       "      <th>assign_time</th>\n",
       "      <th>arrive_to_client_time</th>\n",
       "      <th>order_finish_time</th>\n",
       "      <th>id_tariff</th>\n",
       "      <th>id_city</th>\n",
       "      <th>only_five</th>\n",
       "    </tr>\n",
       "    <tr>\n",
       "      <th>id_order</th>\n",
       "      <th></th>\n",
       "      <th></th>\n",
       "      <th></th>\n",
       "      <th></th>\n",
       "      <th></th>\n",
       "      <th></th>\n",
       "      <th></th>\n",
       "      <th></th>\n",
       "    </tr>\n",
       "  </thead>\n",
       "  <tbody>\n",
       "    <tr>\n",
       "      <th>113612</th>\n",
       "      <td>1644.0</td>\n",
       "      <td>2021-07-01 00:13:39</td>\n",
       "      <td>NaT</td>\n",
       "      <td>NaT</td>\n",
       "      <td>NaT</td>\n",
       "      <td>11.0</td>\n",
       "      <td>117</td>\n",
       "      <td>5</td>\n",
       "    </tr>\n",
       "    <tr>\n",
       "      <th>110195</th>\n",
       "      <td>280.0</td>\n",
       "      <td>2021-07-01 00:17:26</td>\n",
       "      <td>2021-07-01 00:23:26</td>\n",
       "      <td>2021-07-01 00:33:26</td>\n",
       "      <td>NaT</td>\n",
       "      <td>11.0</td>\n",
       "      <td>112</td>\n",
       "      <td>5</td>\n",
       "    </tr>\n",
       "    <tr>\n",
       "      <th>114560</th>\n",
       "      <td>2536.0</td>\n",
       "      <td>2021-07-01 00:36:00</td>\n",
       "      <td>2021-07-01 00:41:00</td>\n",
       "      <td>2021-07-01 00:44:00</td>\n",
       "      <td>2021-07-01 01:42:00</td>\n",
       "      <td>10.0</td>\n",
       "      <td>115</td>\n",
       "      <td>5</td>\n",
       "    </tr>\n",
       "    <tr>\n",
       "      <th>111284</th>\n",
       "      <td>-1.0</td>\n",
       "      <td>2021-07-01 00:36:32</td>\n",
       "      <td>NaT</td>\n",
       "      <td>NaT</td>\n",
       "      <td>NaT</td>\n",
       "      <td>11.0</td>\n",
       "      <td>111</td>\n",
       "      <td>5</td>\n",
       "    </tr>\n",
       "    <tr>\n",
       "      <th>110131</th>\n",
       "      <td>3730.0</td>\n",
       "      <td>2021-07-01 00:36:34</td>\n",
       "      <td>2021-07-01 00:40:34</td>\n",
       "      <td>2021-07-01 00:50:34</td>\n",
       "      <td>NaT</td>\n",
       "      <td>10.0</td>\n",
       "      <td>118</td>\n",
       "      <td>5</td>\n",
       "    </tr>\n",
       "    <tr>\n",
       "      <th>...</th>\n",
       "      <td>...</td>\n",
       "      <td>...</td>\n",
       "      <td>...</td>\n",
       "      <td>...</td>\n",
       "      <td>...</td>\n",
       "      <td>...</td>\n",
       "      <td>...</td>\n",
       "      <td>...</td>\n",
       "    </tr>\n",
       "    <tr>\n",
       "      <th>113893</th>\n",
       "      <td>4072.0</td>\n",
       "      <td>2021-07-31 22:11:11</td>\n",
       "      <td>2021-07-31 22:14:11</td>\n",
       "      <td>2021-07-31 22:18:11</td>\n",
       "      <td>2021-07-31 23:17:11</td>\n",
       "      <td>1.0</td>\n",
       "      <td>111</td>\n",
       "      <td>5</td>\n",
       "    </tr>\n",
       "    <tr>\n",
       "      <th>110175</th>\n",
       "      <td>3952.0</td>\n",
       "      <td>2021-07-31 22:23:06</td>\n",
       "      <td>2021-07-31 22:25:06</td>\n",
       "      <td>2021-07-31 22:33:06</td>\n",
       "      <td>2021-07-31 23:09:06</td>\n",
       "      <td>10.0</td>\n",
       "      <td>111</td>\n",
       "      <td>5</td>\n",
       "    </tr>\n",
       "    <tr>\n",
       "      <th>112011</th>\n",
       "      <td>869.0</td>\n",
       "      <td>2021-07-31 22:33:22</td>\n",
       "      <td>NaT</td>\n",
       "      <td>NaT</td>\n",
       "      <td>NaT</td>\n",
       "      <td>10.0</td>\n",
       "      <td>116</td>\n",
       "      <td>5</td>\n",
       "    </tr>\n",
       "    <tr>\n",
       "      <th>113759</th>\n",
       "      <td>2831.0</td>\n",
       "      <td>2021-07-31 22:38:43</td>\n",
       "      <td>2021-07-31 22:41:43</td>\n",
       "      <td>2021-07-31 22:52:43</td>\n",
       "      <td>2021-07-31 23:14:43</td>\n",
       "      <td>10.0</td>\n",
       "      <td>111</td>\n",
       "      <td>5</td>\n",
       "    </tr>\n",
       "    <tr>\n",
       "      <th>113847</th>\n",
       "      <td>3443.0</td>\n",
       "      <td>2021-07-31 22:42:38</td>\n",
       "      <td>2021-07-31 22:46:38</td>\n",
       "      <td>NaT</td>\n",
       "      <td>NaT</td>\n",
       "      <td>1.0</td>\n",
       "      <td>113</td>\n",
       "      <td>5</td>\n",
       "    </tr>\n",
       "  </tbody>\n",
       "</table>\n",
       "<p>4999 rows × 8 columns</p>\n",
       "</div>"
      ],
      "text/plain": [
       "          id_driver          order_time         assign_time  \\\n",
       "id_order                                                      \n",
       "113612       1644.0 2021-07-01 00:13:39                 NaT   \n",
       "110195        280.0 2021-07-01 00:17:26 2021-07-01 00:23:26   \n",
       "114560       2536.0 2021-07-01 00:36:00 2021-07-01 00:41:00   \n",
       "111284         -1.0 2021-07-01 00:36:32                 NaT   \n",
       "110131       3730.0 2021-07-01 00:36:34 2021-07-01 00:40:34   \n",
       "...             ...                 ...                 ...   \n",
       "113893       4072.0 2021-07-31 22:11:11 2021-07-31 22:14:11   \n",
       "110175       3952.0 2021-07-31 22:23:06 2021-07-31 22:25:06   \n",
       "112011        869.0 2021-07-31 22:33:22                 NaT   \n",
       "113759       2831.0 2021-07-31 22:38:43 2021-07-31 22:41:43   \n",
       "113847       3443.0 2021-07-31 22:42:38 2021-07-31 22:46:38   \n",
       "\n",
       "         arrive_to_client_time   order_finish_time  id_tariff  id_city  \\\n",
       "id_order                                                                 \n",
       "113612                     NaT                 NaT       11.0      117   \n",
       "110195     2021-07-01 00:33:26                 NaT       11.0      112   \n",
       "114560     2021-07-01 00:44:00 2021-07-01 01:42:00       10.0      115   \n",
       "111284                     NaT                 NaT       11.0      111   \n",
       "110131     2021-07-01 00:50:34                 NaT       10.0      118   \n",
       "...                        ...                 ...        ...      ...   \n",
       "113893     2021-07-31 22:18:11 2021-07-31 23:17:11        1.0      111   \n",
       "110175     2021-07-31 22:33:06 2021-07-31 23:09:06       10.0      111   \n",
       "112011                     NaT                 NaT       10.0      116   \n",
       "113759     2021-07-31 22:52:43 2021-07-31 23:14:43       10.0      111   \n",
       "113847                     NaT                 NaT        1.0      113   \n",
       "\n",
       "          only_five  \n",
       "id_order             \n",
       "113612            5  \n",
       "110195            5  \n",
       "114560            5  \n",
       "111284            5  \n",
       "110131            5  \n",
       "...             ...  \n",
       "113893            5  \n",
       "110175            5  \n",
       "112011            5  \n",
       "113759            5  \n",
       "113847            5  \n",
       "\n",
       "[4999 rows x 8 columns]"
      ]
     },
     "execution_count": 65,
     "metadata": {},
     "output_type": "execute_result"
    }
   ],
   "source": [
    "#### Посмотрим все строчки кроме последней\n",
    "\n",
    "df[:-1]"
   ]
  },
  {
   "cell_type": "code",
   "execution_count": null,
   "id": "9eab89f6",
   "metadata": {},
   "outputs": [],
   "source": [
    "###############  .loc   &    .iloc"
   ]
  },
  {
   "cell_type": "code",
   "execution_count": 67,
   "id": "cd6ccc3a",
   "metadata": {},
   "outputs": [],
   "source": [
    "df = df.set_index('order_time')"
   ]
  },
  {
   "cell_type": "code",
   "execution_count": 69,
   "id": "6880202b",
   "metadata": {},
   "outputs": [
    {
     "name": "stderr",
     "output_type": "stream",
     "text": [
      "<ipython-input-69-ad52bb64683c>:1: FutureWarning: Value based partial slicing on non-monotonic DatetimeIndexes with non-existing keys is deprecated and will raise a KeyError in a future Version.\n",
      "  df.loc['2021-07-01 00:00:00':'2021-07-03 00:00:00']\n"
     ]
    },
    {
     "data": {
      "text/html": [
       "<div>\n",
       "<style scoped>\n",
       "    .dataframe tbody tr th:only-of-type {\n",
       "        vertical-align: middle;\n",
       "    }\n",
       "\n",
       "    .dataframe tbody tr th {\n",
       "        vertical-align: top;\n",
       "    }\n",
       "\n",
       "    .dataframe thead th {\n",
       "        text-align: right;\n",
       "    }\n",
       "</style>\n",
       "<table border=\"1\" class=\"dataframe\">\n",
       "  <thead>\n",
       "    <tr style=\"text-align: right;\">\n",
       "      <th></th>\n",
       "      <th>id_driver</th>\n",
       "      <th>assign_time</th>\n",
       "      <th>arrive_to_client_time</th>\n",
       "      <th>order_finish_time</th>\n",
       "      <th>id_tariff</th>\n",
       "      <th>id_city</th>\n",
       "      <th>only_five</th>\n",
       "    </tr>\n",
       "    <tr>\n",
       "      <th>order_time</th>\n",
       "      <th></th>\n",
       "      <th></th>\n",
       "      <th></th>\n",
       "      <th></th>\n",
       "      <th></th>\n",
       "      <th></th>\n",
       "      <th></th>\n",
       "    </tr>\n",
       "  </thead>\n",
       "  <tbody>\n",
       "    <tr>\n",
       "      <th>2021-07-01 00:13:39</th>\n",
       "      <td>1644.0</td>\n",
       "      <td>NaT</td>\n",
       "      <td>NaT</td>\n",
       "      <td>NaT</td>\n",
       "      <td>11.0</td>\n",
       "      <td>117</td>\n",
       "      <td>5</td>\n",
       "    </tr>\n",
       "    <tr>\n",
       "      <th>2021-07-01 00:17:26</th>\n",
       "      <td>280.0</td>\n",
       "      <td>2021-07-01 00:23:26</td>\n",
       "      <td>2021-07-01 00:33:26</td>\n",
       "      <td>NaT</td>\n",
       "      <td>11.0</td>\n",
       "      <td>112</td>\n",
       "      <td>5</td>\n",
       "    </tr>\n",
       "    <tr>\n",
       "      <th>2021-07-01 00:36:00</th>\n",
       "      <td>2536.0</td>\n",
       "      <td>2021-07-01 00:41:00</td>\n",
       "      <td>2021-07-01 00:44:00</td>\n",
       "      <td>2021-07-01 01:42:00</td>\n",
       "      <td>10.0</td>\n",
       "      <td>115</td>\n",
       "      <td>5</td>\n",
       "    </tr>\n",
       "    <tr>\n",
       "      <th>2021-07-01 00:36:32</th>\n",
       "      <td>-1.0</td>\n",
       "      <td>NaT</td>\n",
       "      <td>NaT</td>\n",
       "      <td>NaT</td>\n",
       "      <td>11.0</td>\n",
       "      <td>111</td>\n",
       "      <td>5</td>\n",
       "    </tr>\n",
       "    <tr>\n",
       "      <th>2021-07-01 00:36:34</th>\n",
       "      <td>3730.0</td>\n",
       "      <td>2021-07-01 00:40:34</td>\n",
       "      <td>2021-07-01 00:50:34</td>\n",
       "      <td>NaT</td>\n",
       "      <td>10.0</td>\n",
       "      <td>118</td>\n",
       "      <td>5</td>\n",
       "    </tr>\n",
       "    <tr>\n",
       "      <th>...</th>\n",
       "      <td>...</td>\n",
       "      <td>...</td>\n",
       "      <td>...</td>\n",
       "      <td>...</td>\n",
       "      <td>...</td>\n",
       "      <td>...</td>\n",
       "      <td>...</td>\n",
       "    </tr>\n",
       "    <tr>\n",
       "      <th>2021-07-02 23:37:30</th>\n",
       "      <td>703.0</td>\n",
       "      <td>NaT</td>\n",
       "      <td>NaT</td>\n",
       "      <td>NaT</td>\n",
       "      <td>65.0</td>\n",
       "      <td>111</td>\n",
       "      <td>5</td>\n",
       "    </tr>\n",
       "    <tr>\n",
       "      <th>2021-07-02 23:39:37</th>\n",
       "      <td>1401.0</td>\n",
       "      <td>2021-07-02 23:45:37</td>\n",
       "      <td>2021-07-02 23:54:37</td>\n",
       "      <td>NaT</td>\n",
       "      <td>1.0</td>\n",
       "      <td>114</td>\n",
       "      <td>5</td>\n",
       "    </tr>\n",
       "    <tr>\n",
       "      <th>2021-07-02 23:45:35</th>\n",
       "      <td>2952.0</td>\n",
       "      <td>NaT</td>\n",
       "      <td>NaT</td>\n",
       "      <td>NaT</td>\n",
       "      <td>78.0</td>\n",
       "      <td>111</td>\n",
       "      <td>5</td>\n",
       "    </tr>\n",
       "    <tr>\n",
       "      <th>2021-07-02 23:47:12</th>\n",
       "      <td>2439.0</td>\n",
       "      <td>2021-07-02 23:50:12</td>\n",
       "      <td>NaT</td>\n",
       "      <td>NaT</td>\n",
       "      <td>1.0</td>\n",
       "      <td>119</td>\n",
       "      <td>5</td>\n",
       "    </tr>\n",
       "    <tr>\n",
       "      <th>2021-07-02 23:53:10</th>\n",
       "      <td>4544.0</td>\n",
       "      <td>2021-07-02 23:57:10</td>\n",
       "      <td>NaT</td>\n",
       "      <td>NaT</td>\n",
       "      <td>1.0</td>\n",
       "      <td>116</td>\n",
       "      <td>5</td>\n",
       "    </tr>\n",
       "  </tbody>\n",
       "</table>\n",
       "<p>321 rows × 7 columns</p>\n",
       "</div>"
      ],
      "text/plain": [
       "                     id_driver         assign_time arrive_to_client_time  \\\n",
       "order_time                                                                 \n",
       "2021-07-01 00:13:39     1644.0                 NaT                   NaT   \n",
       "2021-07-01 00:17:26      280.0 2021-07-01 00:23:26   2021-07-01 00:33:26   \n",
       "2021-07-01 00:36:00     2536.0 2021-07-01 00:41:00   2021-07-01 00:44:00   \n",
       "2021-07-01 00:36:32       -1.0                 NaT                   NaT   \n",
       "2021-07-01 00:36:34     3730.0 2021-07-01 00:40:34   2021-07-01 00:50:34   \n",
       "...                        ...                 ...                   ...   \n",
       "2021-07-02 23:37:30      703.0                 NaT                   NaT   \n",
       "2021-07-02 23:39:37     1401.0 2021-07-02 23:45:37   2021-07-02 23:54:37   \n",
       "2021-07-02 23:45:35     2952.0                 NaT                   NaT   \n",
       "2021-07-02 23:47:12     2439.0 2021-07-02 23:50:12                   NaT   \n",
       "2021-07-02 23:53:10     4544.0 2021-07-02 23:57:10                   NaT   \n",
       "\n",
       "                      order_finish_time  id_tariff  id_city  only_five  \n",
       "order_time                                                              \n",
       "2021-07-01 00:13:39                 NaT       11.0      117          5  \n",
       "2021-07-01 00:17:26                 NaT       11.0      112          5  \n",
       "2021-07-01 00:36:00 2021-07-01 01:42:00       10.0      115          5  \n",
       "2021-07-01 00:36:32                 NaT       11.0      111          5  \n",
       "2021-07-01 00:36:34                 NaT       10.0      118          5  \n",
       "...                                 ...        ...      ...        ...  \n",
       "2021-07-02 23:37:30                 NaT       65.0      111          5  \n",
       "2021-07-02 23:39:37                 NaT        1.0      114          5  \n",
       "2021-07-02 23:45:35                 NaT       78.0      111          5  \n",
       "2021-07-02 23:47:12                 NaT        1.0      119          5  \n",
       "2021-07-02 23:53:10                 NaT        1.0      116          5  \n",
       "\n",
       "[321 rows x 7 columns]"
      ]
     },
     "execution_count": 69,
     "metadata": {},
     "output_type": "execute_result"
    }
   ],
   "source": [
    "df.loc['2021-07-01 00:00:00':'2021-07-03 00:00:00']"
   ]
  },
  {
   "cell_type": "code",
   "execution_count": 75,
   "id": "48a5d422",
   "metadata": {},
   "outputs": [
    {
     "name": "stderr",
     "output_type": "stream",
     "text": [
      "C:\\Users\\D.Elistratov\\anaconda3\\lib\\site-packages\\pandas\\core\\indexing.py:1069: FutureWarning: Value based partial slicing on non-monotonic DatetimeIndexes with non-existing keys is deprecated and will raise a KeyError in a future Version.\n",
      "  return self._getitem_tuple_same_dim(tup)\n"
     ]
    },
    {
     "data": {
      "text/html": [
       "<div>\n",
       "<style scoped>\n",
       "    .dataframe tbody tr th:only-of-type {\n",
       "        vertical-align: middle;\n",
       "    }\n",
       "\n",
       "    .dataframe tbody tr th {\n",
       "        vertical-align: top;\n",
       "    }\n",
       "\n",
       "    .dataframe thead th {\n",
       "        text-align: right;\n",
       "    }\n",
       "</style>\n",
       "<table border=\"1\" class=\"dataframe\">\n",
       "  <thead>\n",
       "    <tr style=\"text-align: right;\">\n",
       "      <th></th>\n",
       "      <th>id_driver</th>\n",
       "      <th>assign_time</th>\n",
       "    </tr>\n",
       "    <tr>\n",
       "      <th>order_time</th>\n",
       "      <th></th>\n",
       "      <th></th>\n",
       "    </tr>\n",
       "  </thead>\n",
       "  <tbody>\n",
       "    <tr>\n",
       "      <th>2021-07-01 00:13:39</th>\n",
       "      <td>1644.0</td>\n",
       "      <td>NaT</td>\n",
       "    </tr>\n",
       "    <tr>\n",
       "      <th>2021-07-01 00:17:26</th>\n",
       "      <td>280.0</td>\n",
       "      <td>2021-07-01 00:23:26</td>\n",
       "    </tr>\n",
       "    <tr>\n",
       "      <th>2021-07-01 00:36:00</th>\n",
       "      <td>2536.0</td>\n",
       "      <td>2021-07-01 00:41:00</td>\n",
       "    </tr>\n",
       "    <tr>\n",
       "      <th>2021-07-01 00:36:32</th>\n",
       "      <td>-1.0</td>\n",
       "      <td>NaT</td>\n",
       "    </tr>\n",
       "    <tr>\n",
       "      <th>2021-07-01 00:36:34</th>\n",
       "      <td>3730.0</td>\n",
       "      <td>2021-07-01 00:40:34</td>\n",
       "    </tr>\n",
       "    <tr>\n",
       "      <th>...</th>\n",
       "      <td>...</td>\n",
       "      <td>...</td>\n",
       "    </tr>\n",
       "    <tr>\n",
       "      <th>2021-07-02 23:37:30</th>\n",
       "      <td>703.0</td>\n",
       "      <td>NaT</td>\n",
       "    </tr>\n",
       "    <tr>\n",
       "      <th>2021-07-02 23:39:37</th>\n",
       "      <td>1401.0</td>\n",
       "      <td>2021-07-02 23:45:37</td>\n",
       "    </tr>\n",
       "    <tr>\n",
       "      <th>2021-07-02 23:45:35</th>\n",
       "      <td>2952.0</td>\n",
       "      <td>NaT</td>\n",
       "    </tr>\n",
       "    <tr>\n",
       "      <th>2021-07-02 23:47:12</th>\n",
       "      <td>2439.0</td>\n",
       "      <td>2021-07-02 23:50:12</td>\n",
       "    </tr>\n",
       "    <tr>\n",
       "      <th>2021-07-02 23:53:10</th>\n",
       "      <td>4544.0</td>\n",
       "      <td>2021-07-02 23:57:10</td>\n",
       "    </tr>\n",
       "  </tbody>\n",
       "</table>\n",
       "<p>321 rows × 2 columns</p>\n",
       "</div>"
      ],
      "text/plain": [
       "                     id_driver         assign_time\n",
       "order_time                                        \n",
       "2021-07-01 00:13:39     1644.0                 NaT\n",
       "2021-07-01 00:17:26      280.0 2021-07-01 00:23:26\n",
       "2021-07-01 00:36:00     2536.0 2021-07-01 00:41:00\n",
       "2021-07-01 00:36:32       -1.0                 NaT\n",
       "2021-07-01 00:36:34     3730.0 2021-07-01 00:40:34\n",
       "...                        ...                 ...\n",
       "2021-07-02 23:37:30      703.0                 NaT\n",
       "2021-07-02 23:39:37     1401.0 2021-07-02 23:45:37\n",
       "2021-07-02 23:45:35     2952.0                 NaT\n",
       "2021-07-02 23:47:12     2439.0 2021-07-02 23:50:12\n",
       "2021-07-02 23:53:10     4544.0 2021-07-02 23:57:10\n",
       "\n",
       "[321 rows x 2 columns]"
      ]
     },
     "execution_count": 75,
     "metadata": {},
     "output_type": "execute_result"
    }
   ],
   "source": [
    "#print(df.loc['2021-07-01 00:00:00':'2021-07-03 00:00:00', ['id_driver','assign_time']])\n",
    "df.loc['2021-07-01 00:00:00':'2021-07-03 00:00:00', 'id_driver':'assign_time']\n"
   ]
  },
  {
   "cell_type": "code",
   "execution_count": 83,
   "id": "a16438e3",
   "metadata": {},
   "outputs": [
    {
     "data": {
      "text/html": [
       "<div>\n",
       "<style scoped>\n",
       "    .dataframe tbody tr th:only-of-type {\n",
       "        vertical-align: middle;\n",
       "    }\n",
       "\n",
       "    .dataframe tbody tr th {\n",
       "        vertical-align: top;\n",
       "    }\n",
       "\n",
       "    .dataframe thead th {\n",
       "        text-align: right;\n",
       "    }\n",
       "</style>\n",
       "<table border=\"1\" class=\"dataframe\">\n",
       "  <thead>\n",
       "    <tr style=\"text-align: right;\">\n",
       "      <th></th>\n",
       "      <th>order_finish_time</th>\n",
       "      <th>id_tariff</th>\n",
       "    </tr>\n",
       "    <tr>\n",
       "      <th>order_time</th>\n",
       "      <th></th>\n",
       "      <th></th>\n",
       "    </tr>\n",
       "  </thead>\n",
       "  <tbody>\n",
       "    <tr>\n",
       "      <th>2021-07-01 00:17:26</th>\n",
       "      <td>NaT</td>\n",
       "      <td>11.0</td>\n",
       "    </tr>\n",
       "    <tr>\n",
       "      <th>2021-07-01 00:36:00</th>\n",
       "      <td>2021-07-01 01:42:00</td>\n",
       "      <td>10.0</td>\n",
       "    </tr>\n",
       "    <tr>\n",
       "      <th>2021-07-01 00:36:32</th>\n",
       "      <td>NaT</td>\n",
       "      <td>11.0</td>\n",
       "    </tr>\n",
       "    <tr>\n",
       "      <th>2021-07-01 00:36:34</th>\n",
       "      <td>NaT</td>\n",
       "      <td>10.0</td>\n",
       "    </tr>\n",
       "  </tbody>\n",
       "</table>\n",
       "</div>"
      ],
      "text/plain": [
       "                      order_finish_time  id_tariff\n",
       "order_time                                        \n",
       "2021-07-01 00:17:26                 NaT       11.0\n",
       "2021-07-01 00:36:00 2021-07-01 01:42:00       10.0\n",
       "2021-07-01 00:36:32                 NaT       11.0\n",
       "2021-07-01 00:36:34                 NaT       10.0"
      ]
     },
     "execution_count": 83,
     "metadata": {},
     "output_type": "execute_result"
    }
   ],
   "source": [
    "df.iloc[1:5, [3,4]]"
   ]
  },
  {
   "cell_type": "code",
   "execution_count": 82,
   "id": "e569e7c7",
   "metadata": {},
   "outputs": [
    {
     "name": "stderr",
     "output_type": "stream",
     "text": [
      "C:\\Users\\D.Elistratov\\anaconda3\\lib\\site-packages\\pandas\\core\\indexing.py:1069: FutureWarning: Value based partial slicing on non-monotonic DatetimeIndexes with non-existing keys is deprecated and will raise a KeyError in a future Version.\n",
      "  return self._getitem_tuple_same_dim(tup)\n"
     ]
    },
    {
     "data": {
      "text/html": [
       "<div>\n",
       "<style scoped>\n",
       "    .dataframe tbody tr th:only-of-type {\n",
       "        vertical-align: middle;\n",
       "    }\n",
       "\n",
       "    .dataframe tbody tr th {\n",
       "        vertical-align: top;\n",
       "    }\n",
       "\n",
       "    .dataframe thead th {\n",
       "        text-align: right;\n",
       "    }\n",
       "</style>\n",
       "<table border=\"1\" class=\"dataframe\">\n",
       "  <thead>\n",
       "    <tr style=\"text-align: right;\">\n",
       "      <th></th>\n",
       "      <th>order_finish_time</th>\n",
       "      <th>id_tariff</th>\n",
       "    </tr>\n",
       "    <tr>\n",
       "      <th>order_time</th>\n",
       "      <th></th>\n",
       "      <th></th>\n",
       "    </tr>\n",
       "  </thead>\n",
       "  <tbody>\n",
       "    <tr>\n",
       "      <th>2021-07-01 00:17:26</th>\n",
       "      <td>NaT</td>\n",
       "      <td>11.0</td>\n",
       "    </tr>\n",
       "    <tr>\n",
       "      <th>2021-07-01 00:36:00</th>\n",
       "      <td>2021-07-01 01:42:00</td>\n",
       "      <td>10.0</td>\n",
       "    </tr>\n",
       "    <tr>\n",
       "      <th>2021-07-01 00:36:32</th>\n",
       "      <td>NaT</td>\n",
       "      <td>11.0</td>\n",
       "    </tr>\n",
       "    <tr>\n",
       "      <th>2021-07-01 00:36:34</th>\n",
       "      <td>NaT</td>\n",
       "      <td>10.0</td>\n",
       "    </tr>\n",
       "  </tbody>\n",
       "</table>\n",
       "</div>"
      ],
      "text/plain": [
       "                      order_finish_time  id_tariff\n",
       "order_time                                        \n",
       "2021-07-01 00:17:26                 NaT       11.0\n",
       "2021-07-01 00:36:00 2021-07-01 01:42:00       10.0\n",
       "2021-07-01 00:36:32                 NaT       11.0\n",
       "2021-07-01 00:36:34                 NaT       10.0"
      ]
     },
     "execution_count": 82,
     "metadata": {},
     "output_type": "execute_result"
    }
   ],
   "source": [
    "df.loc['2021-07-01 00:17:00':'2021-07-01 00:36:34', ['order_finish_time','id_tariff']]"
   ]
  },
  {
   "cell_type": "code",
   "execution_count": 87,
   "id": "8e4731c2",
   "metadata": {},
   "outputs": [
    {
     "data": {
      "text/html": [
       "<div>\n",
       "<style scoped>\n",
       "    .dataframe tbody tr th:only-of-type {\n",
       "        vertical-align: middle;\n",
       "    }\n",
       "\n",
       "    .dataframe tbody tr th {\n",
       "        vertical-align: top;\n",
       "    }\n",
       "\n",
       "    .dataframe thead th {\n",
       "        text-align: right;\n",
       "    }\n",
       "</style>\n",
       "<table border=\"1\" class=\"dataframe\">\n",
       "  <thead>\n",
       "    <tr style=\"text-align: right;\">\n",
       "      <th></th>\n",
       "      <th>arrive_to_client_time</th>\n",
       "      <th>order_finish_time</th>\n",
       "    </tr>\n",
       "    <tr>\n",
       "      <th>order_time</th>\n",
       "      <th></th>\n",
       "      <th></th>\n",
       "    </tr>\n",
       "  </thead>\n",
       "  <tbody>\n",
       "    <tr>\n",
       "      <th>2021-07-01 00:13:39</th>\n",
       "      <td>NaT</td>\n",
       "      <td>NaT</td>\n",
       "    </tr>\n",
       "    <tr>\n",
       "      <th>2021-07-01 00:17:26</th>\n",
       "      <td>2021-07-01 00:33:26</td>\n",
       "      <td>NaT</td>\n",
       "    </tr>\n",
       "    <tr>\n",
       "      <th>2021-07-01 00:36:00</th>\n",
       "      <td>2021-07-01 00:44:00</td>\n",
       "      <td>2021-07-01 01:42:00</td>\n",
       "    </tr>\n",
       "    <tr>\n",
       "      <th>2021-07-01 00:36:32</th>\n",
       "      <td>NaT</td>\n",
       "      <td>NaT</td>\n",
       "    </tr>\n",
       "    <tr>\n",
       "      <th>2021-07-01 00:36:34</th>\n",
       "      <td>2021-07-01 00:50:34</td>\n",
       "      <td>NaT</td>\n",
       "    </tr>\n",
       "  </tbody>\n",
       "</table>\n",
       "</div>"
      ],
      "text/plain": [
       "                    arrive_to_client_time   order_finish_time\n",
       "order_time                                                   \n",
       "2021-07-01 00:13:39                   NaT                 NaT\n",
       "2021-07-01 00:17:26   2021-07-01 00:33:26                 NaT\n",
       "2021-07-01 00:36:00   2021-07-01 00:44:00 2021-07-01 01:42:00\n",
       "2021-07-01 00:36:32                   NaT                 NaT\n",
       "2021-07-01 00:36:34   2021-07-01 00:50:34                 NaT"
      ]
     },
     "execution_count": 87,
     "metadata": {},
     "output_type": "execute_result"
    }
   ],
   "source": [
    "df.iloc[:5,[2,3]]"
   ]
  },
  {
   "cell_type": "markdown",
   "id": "9e624ccb",
   "metadata": {},
   "source": [
    "# Введение в функции"
   ]
  },
  {
   "cell_type": "code",
   "execution_count": 127,
   "id": "6d36d9c5",
   "metadata": {},
   "outputs": [
    {
     "name": "stdout",
     "output_type": "stream",
     "text": [
      "Наше число =  4\n",
      "Наше число в квадрате =  16\n"
     ]
    }
   ],
   "source": [
    "def func_trial1(a):\n",
    "    \n",
    "    print(\"Наше число = \",a)\n",
    "    print(\"Наше число в квадрате = \",a**2)\n",
    "    \n",
    "    \n",
    "d = func_trial1(4)\n",
    "print(d)"
   ]
  },
  {
   "cell_type": "code",
   "execution_count": 130,
   "id": "d12d1152",
   "metadata": {},
   "outputs": [],
   "source": [
    "def func_trial1(a):\n",
    "    \n",
    "    print(\"Наше число = \",a)\n",
    "    print(\"Наше число в квадрате = \",a**2)\n",
    "    \n",
    "    b = a**3\n",
    "    c = 2*a**3\n",
    "    d = 3*a**3\n",
    "    \n",
    "    return b, c, d"
   ]
  },
  {
   "cell_type": "code",
   "execution_count": 115,
   "id": "46ce1c1c",
   "metadata": {},
   "outputs": [
    {
     "name": "stdout",
     "output_type": "stream",
     "text": [
      "Наше число =  3\n",
      "Наше число в квадрате =  9\n"
     ]
    }
   ],
   "source": [
    "a_cube, two_a_cube, three_a_cube = func_trial1(3)"
   ]
  },
  {
   "cell_type": "code",
   "execution_count": 117,
   "id": "b8e0e881",
   "metadata": {},
   "outputs": [
    {
     "name": "stdout",
     "output_type": "stream",
     "text": [
      "Наше число =  3\n",
      "Наше число в квадрате =  9\n"
     ]
    }
   ],
   "source": [
    "a_test = func_trial1(3)"
   ]
  },
  {
   "cell_type": "code",
   "execution_count": 131,
   "id": "c55c409c",
   "metadata": {},
   "outputs": [
    {
     "name": "stdout",
     "output_type": "stream",
     "text": [
      "Наше число =  3\n",
      "Наше число в квадрате =  9\n"
     ]
    },
    {
     "ename": "ValueError",
     "evalue": "too many values to unpack (expected 2)",
     "output_type": "error",
     "traceback": [
      "\u001b[1;31m---------------------------------------------------------------------------\u001b[0m",
      "\u001b[1;31mValueError\u001b[0m                                Traceback (most recent call last)",
      "\u001b[1;32m<ipython-input-131-ca6031da4392>\u001b[0m in \u001b[0;36m<module>\u001b[1;34m\u001b[0m\n\u001b[1;32m----> 1\u001b[1;33m \u001b[0ma_test1\u001b[0m\u001b[1;33m,\u001b[0m \u001b[0ma_test2\u001b[0m \u001b[1;33m=\u001b[0m \u001b[0mfunc_trial1\u001b[0m\u001b[1;33m(\u001b[0m\u001b[1;36m3\u001b[0m\u001b[1;33m)\u001b[0m\u001b[1;33m\u001b[0m\u001b[1;33m\u001b[0m\u001b[0m\n\u001b[0m",
      "\u001b[1;31mValueError\u001b[0m: too many values to unpack (expected 2)"
     ]
    }
   ],
   "source": [
    "a_test1, a_test2 = func_trial1(3)"
   ]
  },
  {
   "cell_type": "code",
   "execution_count": null,
   "id": "c8a4f035",
   "metadata": {},
   "outputs": [],
   "source": []
  },
  {
   "cell_type": "code",
   "execution_count": null,
   "id": "4140a095",
   "metadata": {},
   "outputs": [],
   "source": []
  },
  {
   "cell_type": "code",
   "execution_count": null,
   "id": "3236d0b4",
   "metadata": {},
   "outputs": [],
   "source": []
  },
  {
   "cell_type": "code",
   "execution_count": null,
   "id": "a60aa39b",
   "metadata": {},
   "outputs": [],
   "source": []
  },
  {
   "cell_type": "code",
   "execution_count": null,
   "id": "1b29da70",
   "metadata": {},
   "outputs": [],
   "source": []
  },
  {
   "cell_type": "code",
   "execution_count": null,
   "id": "e4dae34f",
   "metadata": {},
   "outputs": [],
   "source": []
  },
  {
   "cell_type": "code",
   "execution_count": null,
   "id": "f7a1d4a1",
   "metadata": {},
   "outputs": [],
   "source": []
  },
  {
   "cell_type": "code",
   "execution_count": null,
   "id": "497fd31c",
   "metadata": {},
   "outputs": [],
   "source": []
  },
  {
   "cell_type": "code",
   "execution_count": null,
   "id": "71dde024",
   "metadata": {},
   "outputs": [],
   "source": []
  },
  {
   "cell_type": "code",
   "execution_count": null,
   "id": "fd17090d",
   "metadata": {},
   "outputs": [],
   "source": []
  },
  {
   "cell_type": "markdown",
   "id": "2266a6de",
   "metadata": {},
   "source": [
    "#### Объединение и пересечение списков"
   ]
  },
  {
   "cell_type": "code",
   "execution_count": null,
   "id": "74d1a5c9",
   "metadata": {},
   "outputs": [],
   "source": []
  },
  {
   "cell_type": "code",
   "execution_count": null,
   "id": "46c23b43",
   "metadata": {},
   "outputs": [],
   "source": []
  },
  {
   "cell_type": "code",
   "execution_count": null,
   "id": "056d2056",
   "metadata": {},
   "outputs": [],
   "source": []
  },
  {
   "cell_type": "markdown",
   "id": "9c74fc6a",
   "metadata": {},
   "source": [
    "# СЛОВАРИ"
   ]
  },
  {
   "cell_type": "markdown",
   "id": "4b04f6a1",
   "metadata": {},
   "source": [
    "#### Соритровка словаря"
   ]
  },
  {
   "cell_type": "code",
   "execution_count": null,
   "id": "deae7638",
   "metadata": {},
   "outputs": [],
   "source": []
  },
  {
   "cell_type": "markdown",
   "id": "71dfdbc8",
   "metadata": {},
   "source": [
    "### Доступ к элементу словаря"
   ]
  },
  {
   "cell_type": "code",
   "execution_count": null,
   "id": "80f67652",
   "metadata": {},
   "outputs": [],
   "source": []
  },
  {
   "cell_type": "code",
   "execution_count": null,
   "id": "29cc5a0d",
   "metadata": {},
   "outputs": [],
   "source": []
  },
  {
   "cell_type": "markdown",
   "id": "3538fb22",
   "metadata": {},
   "source": [
    "### Требования к индексам словаря"
   ]
  },
  {
   "cell_type": "markdown",
   "id": "573c1eb6",
   "metadata": {},
   "source": []
  },
  {
   "cell_type": "code",
   "execution_count": null,
   "id": "0c67b7c4",
   "metadata": {},
   "outputs": [],
   "source": []
  },
  {
   "cell_type": "code",
   "execution_count": null,
   "id": "0d3be541",
   "metadata": {},
   "outputs": [],
   "source": []
  },
  {
   "cell_type": "code",
   "execution_count": null,
   "id": "564d9059",
   "metadata": {},
   "outputs": [],
   "source": []
  },
  {
   "cell_type": "markdown",
   "id": "8a09c643",
   "metadata": {},
   "source": [
    "### Объекты просмотра словаря"
   ]
  },
  {
   "cell_type": "markdown",
   "id": "071a1361",
   "metadata": {},
   "source": []
  },
  {
   "cell_type": "code",
   "execution_count": null,
   "id": "7132fcb7",
   "metadata": {},
   "outputs": [],
   "source": []
  },
  {
   "cell_type": "code",
   "execution_count": null,
   "id": "98a81cd2",
   "metadata": {},
   "outputs": [],
   "source": []
  },
  {
   "cell_type": "code",
   "execution_count": null,
   "id": "3222ba8c",
   "metadata": {},
   "outputs": [],
   "source": []
  },
  {
   "cell_type": "markdown",
   "id": "05ba945a",
   "metadata": {},
   "source": [
    "### Сортировка словаря"
   ]
  },
  {
   "cell_type": "code",
   "execution_count": null,
   "id": "e6d855e7",
   "metadata": {},
   "outputs": [],
   "source": []
  },
  {
   "cell_type": "code",
   "execution_count": null,
   "id": "ba00b268",
   "metadata": {},
   "outputs": [],
   "source": []
  },
  {
   "cell_type": "code",
   "execution_count": null,
   "id": "7410c9fd",
   "metadata": {},
   "outputs": [],
   "source": []
  },
  {
   "cell_type": "code",
   "execution_count": null,
   "id": "28ff8daf",
   "metadata": {},
   "outputs": [],
   "source": []
  },
  {
   "cell_type": "code",
   "execution_count": null,
   "id": "2e8fe4c9",
   "metadata": {},
   "outputs": [],
   "source": []
  },
  {
   "cell_type": "markdown",
   "id": "99ef3241",
   "metadata": {},
   "source": [
    "### Поменять переменные местами"
   ]
  },
  {
   "cell_type": "code",
   "execution_count": null,
   "id": "112f19cf",
   "metadata": {},
   "outputs": [],
   "source": [
    "a = 100\n",
    "b = 'Строка'\n",
    "a, b = b, a"
   ]
  },
  {
   "cell_type": "code",
   "execution_count": null,
   "id": "a7d43427",
   "metadata": {},
   "outputs": [],
   "source": [
    "a"
   ]
  },
  {
   "cell_type": "code",
   "execution_count": null,
   "id": "e5f866b1",
   "metadata": {},
   "outputs": [],
   "source": [
    "b"
   ]
  },
  {
   "cell_type": "code",
   "execution_count": null,
   "id": "65b59a6c",
   "metadata": {},
   "outputs": [],
   "source": [
    "a\n",
    "b"
   ]
  },
  {
   "cell_type": "code",
   "execution_count": null,
   "id": "485610b7",
   "metadata": {},
   "outputs": [],
   "source": [
    "print(a)\n",
    "print(b)"
   ]
  },
  {
   "cell_type": "markdown",
   "id": "ee0d1ce0",
   "metadata": {},
   "source": [
    "### Всякие разные функции"
   ]
  },
  {
   "cell_type": "code",
   "execution_count": null,
   "id": "9489830e",
   "metadata": {},
   "outputs": [],
   "source": [
    "def solve(n):\n",
    "    n1 = n\n",
    "    n2 = int(str(n) * 2)\n",
    "    n3 = int(str(n) * 3)\n",
    "    print(n1 + n2 + n3)\n",
    "\n",
    "solve(5)"
   ]
  },
  {
   "cell_type": "code",
   "execution_count": null,
   "id": "83b273a6",
   "metadata": {},
   "outputs": [],
   "source": []
  }
 ],
 "metadata": {
  "kernelspec": {
   "display_name": "Python 3",
   "language": "python",
   "name": "python3"
  },
  "language_info": {
   "codemirror_mode": {
    "name": "ipython",
    "version": 3
   },
   "file_extension": ".py",
   "mimetype": "text/x-python",
   "name": "python",
   "nbconvert_exporter": "python",
   "pygments_lexer": "ipython3",
   "version": "3.8.8"
  }
 },
 "nbformat": 4,
 "nbformat_minor": 5
}
